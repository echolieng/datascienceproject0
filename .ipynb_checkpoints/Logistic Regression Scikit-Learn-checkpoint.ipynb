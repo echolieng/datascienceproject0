{
 "cells": [
  {
   "cell_type": "markdown",
   "metadata": {},
   "source": [
    "Sigmoid Function (Logistic Function)"
   ]
  },
  {
   "cell_type": "code",
   "execution_count": 1,
   "metadata": {},
   "outputs": [
    {
     "data": {
      "text/plain": [
       "<matplotlib.figure.Figure at 0x1db30fde828>"
      ]
     },
     "metadata": {},
     "output_type": "display_data"
    }
   ],
   "source": [
    "import matplotlib.pyplot as plt\n",
    "import numpy as np\n",
    "def sigmoid(z):\n",
    "    return 1.0 / (1.0 + np.exp(-z))\n",
    "z = np.arange(-7, 7, 0.1)\n",
    "phi_z = sigmoid(z)\n",
    "plt.plot(z, phi_z)\n",
    "plt.axvline(0.0, color = 'k')\n",
    "plt.axhspan(0.0, 1.0, facecolor = '1.0', alpha = 1.0, ls = 'dotted')\n",
    "plt.axhline(y = 0.5, ls = 'dotted', color = 'k')\n",
    "plt.yticks([0.0, 0.5, 1.0])\n",
    "plt.ylim(-0.1, 1.1)\n",
    "plt.xlabel('z')\n",
    "plt.ylabel('$\\phi (z)$')\n",
    "plt.show()"
   ]
  },
  {
   "cell_type": "markdown",
   "metadata": {},
   "source": [
    "Training a Logistic Regression Model with Scikit-Learn:"
   ]
  },
  {
   "cell_type": "code",
   "execution_count": 2,
   "metadata": {},
   "outputs": [],
   "source": [
    "from sklearn.linear_model import LogisticRegression\n",
    "from sklearn import datasets\n",
    "from sklearn.model_selection import train_test_split\n",
    "from sklearn.preprocessing import StandardScaler\n",
    "iris = datasets.load_iris()\n",
    "X = iris.data[:, [2, 3]]\n",
    "y = iris.target\n",
    "#randomly split the X and y arrays into 30% test data and 70% training data\n",
    "X_train, X_test, y_train, y_test = train_test_split(X, y, test_size = 0.3, random_state=0)\n",
    "#standardize features\n",
    "sc = StandardScaler()\n",
    "#estimate sample mean and standard deviation\n",
    "sc.fit(X_train)\n",
    "#standardize each feature dimension of training data\n",
    "X_train_std = sc.transform(X_train)\n",
    "X_test_std = sc.transform(X_test)"
   ]
  },
  {
   "cell_type": "code",
   "execution_count": 3,
   "metadata": {},
   "outputs": [
    {
     "data": {
      "text/plain": [
       "LogisticRegression(C=1000.0, class_weight=None, dual=False,\n",
       "          fit_intercept=True, intercept_scaling=1, max_iter=100,\n",
       "          multi_class='ovr', n_jobs=1, penalty='l2', random_state=0,\n",
       "          solver='liblinear', tol=0.0001, verbose=0, warm_start=False)"
      ]
     },
     "execution_count": 3,
     "metadata": {},
     "output_type": "execute_result"
    }
   ],
   "source": [
    "lr = LogisticRegression(C = 1000.0, random_state = 0)\n",
    "lr.fit(X_train_std, y_train)"
   ]
  },
  {
   "cell_type": "code",
   "execution_count": 4,
   "metadata": {},
   "outputs": [],
   "source": [
    "#plot decision regions of model and visualize separation\n",
    "from matplotlib.colors import ListedColormap\n",
    "import matplotlib.pyplot as plt\n",
    "\n",
    "def plot_decision_regions(X, y, classifier, test_idx = None, resolution = 0.02):\n",
    "    # set up marker generator and color map\n",
    "    markers = ('s', 'x', 'o', '^', 'v')\n",
    "    colors = ('red', 'blue', 'lightgreen', 'gray', 'cyan')\n",
    "    cmap = ListedColormap(colors[:len(np.unique(y))])\n",
    "    # plot the decision surface\n",
    "    x1_min, x1_max = X[:, 0].min() - 1, X[:, 0].max() + 1\n",
    "    x2_min, x2_max = X[:, 1].min() - 1, X[:, 1].max() + 1\n",
    "    xx1, xx2 = np.meshgrid(np.arange(x1_min, x1_max, resolution), np.arange(x2_min, x2_max, resolution))\n",
    "    Z = classifier.predict(np.array([xx1.ravel(), xx2.ravel()]).T)\n",
    "    Z = Z.reshape(xx1.shape)\n",
    "    plt.contourf(xx1, xx2, Z, alpha = 0.4, cmap = cmap)\n",
    "    plt.xlim(xx1.min(), xx2.max())\n",
    "    plt.ylim(xx2.min(), xx2.max())\n",
    "    # plot all samples\n",
    "    X_test, y_test = X[test_idx, :], y[test_idx]\n",
    "    for idx, cl in enumerate(np.unique(y)):\n",
    "        plt.scatter(x = X[y == cl, 0], y = X[y == cl, 1], alpha = 0.8, c = cmap(idx), marker = markers[idx], label= cl)\n",
    "    # highlight test samples\n",
    "    if test_idx:\n",
    "        X_test, y_test = X[test_idx, :], y[test_idx]\n",
    "        plt.scatter(X_test[:, 0], X_test[:, 1], c = '', alpha = 1.0, linewidth = 1, marker = 'o', s = 55, label = 'Test Set')"
   ]
  },
  {
   "cell_type": "code",
   "execution_count": 5,
   "metadata": {},
   "outputs": [
    {
     "data": {
      "image/png": "[encoded data removed]",
      "text/plain": [
       "<matplotlib.figure.Figure at 0x1db30fd87f0>"
      ]
     },
     "metadata": {},
     "output_type": "display_data"
    }
   ],
   "source": [
    "# specify the indices of the samples to mark on the plots\n",
    "X_combined_std = np.vstack((X_train_std, X_test_std))\n",
    "y_combined = np.hstack((y_train, y_test))\n",
    "plot_decision_regions(X_combined_std, y_combined, classifier = lr, test_idx = range(105, 150))\n",
    "plt.xlabel('petal length [standardized]')\n",
    "plt.ylabel('petal width [standardized]')\n",
    "plt.legend(loc = 'upper left')\n",
    "plt.show()"
   ]
  },
  {
   "cell_type": "markdown",
   "metadata": {},
   "source": [
    "Predict the class-membership probability of the samples via the predict_proba method:"
   ]
  },
  {
   "cell_type": "code",
   "execution_count": 6,
   "metadata": {},
   "outputs": [
    {
     "data": {
      "text/plain": [
       "array([[2.05743774e-11, 6.31620264e-02, 9.36837974e-01],\n",
       "       [6.08753106e-04, 9.99285569e-01, 1.05678028e-04],\n",
       "       [8.16962653e-01, 1.83037347e-01, 6.48299403e-14],\n",
       "       [1.60866539e-11, 4.14084479e-01, 5.85915521e-01],\n",
       "       [8.00231776e-01, 1.99768224e-01, 1.07576258e-13],\n",
       "       [2.03283749e-13, 1.38353563e-01, 8.61646437e-01],\n",
       "       [8.64726967e-01, 1.35273033e-01, 9.27705289e-14],\n",
       "       [4.92680691e-07, 7.61844645e-01, 2.38154862e-01],\n",
       "       [6.63326495e-07, 8.43292211e-01, 1.56707126e-01],\n",
       "       [8.06447009e-05, 9.97737477e-01, 2.18187798e-03],\n",
       "       [9.03984802e-09, 4.62107297e-01, 5.37892694e-01],\n",
       "       [1.54213753e-06, 8.75626483e-01, 1.24371975e-01],\n",
       "       [5.21240195e-06, 9.81860065e-01, 1.81347231e-02],\n",
       "       [8.78337572e-07, 8.24894420e-01, 1.75104701e-01],\n",
       "       [1.13609831e-06, 8.90634747e-01, 1.09364117e-01],\n",
       "       [7.63277074e-01, 2.36722926e-01, 4.48028267e-14],\n",
       "       [1.54213753e-06, 8.75626483e-01, 1.24371975e-01],\n",
       "       [2.17883410e-05, 9.95361393e-01, 4.61681913e-03],\n",
       "       [8.50297533e-01, 1.49702467e-01, 1.54539513e-13],\n",
       "       [8.92312846e-01, 1.07687154e-01, 2.19265907e-13],\n",
       "       [1.36185935e-09, 1.37889641e-01, 8.62110357e-01],\n",
       "       [1.54213753e-06, 8.75626483e-01, 1.24371975e-01],\n",
       "       [7.30041284e-01, 2.69958716e-01, 8.08556048e-13],\n",
       "       [8.16962653e-01, 1.83037347e-01, 6.48299403e-14],\n",
       "       [1.31849235e-08, 2.33504838e-01, 7.66495148e-01],\n",
       "       [8.76597816e-01, 1.23402184e-01, 8.44713225e-15],\n",
       "       [8.03965919e-01, 1.96034081e-01, 4.68344939e-12],\n",
       "       [1.77840766e-05, 9.92031267e-01, 7.95094912e-03],\n",
       "       [1.90628534e-02, 9.80932392e-01, 4.75462295e-06],\n",
       "       [8.52060302e-01, 1.47939698e-01, 1.01852930e-12],\n",
       "       [5.05675088e-10, 3.05943312e-01, 6.94056688e-01],\n",
       "       [1.54213753e-06, 8.75626483e-01, 1.24371975e-01],\n",
       "       [8.00231776e-01, 1.99768224e-01, 1.07576258e-13],\n",
       "       [7.81877559e-09, 2.32190155e-01, 7.67809837e-01],\n",
       "       [1.29757333e-11, 1.74476679e-01, 8.25523321e-01],\n",
       "       [7.17765160e-05, 9.95828460e-01, 4.09976396e-03],\n",
       "       [8.02288088e-01, 1.97711912e-01, 7.09140126e-13],\n",
       "       [1.75748033e-08, 3.82812098e-01, 6.17187884e-01],\n",
       "       [7.84804343e-06, 9.60367415e-01, 3.96247367e-02],\n",
       "       [1.54998206e-04, 9.99065670e-01, 7.79331753e-04],\n",
       "       [4.48901735e-11, 1.93094174e-01, 8.06905826e-01],\n",
       "       [8.33068956e-01, 1.66931044e-01, 3.90241396e-14],\n",
       "       [4.74332140e-11, 8.17822383e-02, 9.18217762e-01],\n",
       "       [9.06082741e-01, 9.39172591e-02, 5.70722898e-12],\n",
       "       [8.00231776e-01, 1.99768224e-01, 1.07576258e-13]])"
      ]
     },
     "execution_count": 6,
     "metadata": {},
     "output_type": "execute_result"
    }
   ],
   "source": [
    "lr.predict_proba(X_test_std)"
   ]
  },
  {
   "cell_type": "markdown",
   "metadata": {},
   "source": [
    "Each preceding arrays tells the chances the samples belongs to each of the 3 classes."
   ]
  },
  {
   "cell_type": "markdown",
   "metadata": {},
   "source": [
    "Fit 5 logistic regression models with different values for the inverse-regularization parameter C. Plot the L2 regularization path for the two weight coefficients:"
   ]
  },
  {
   "cell_type": "code",
   "execution_count": 9,
   "metadata": {},
   "outputs": [
    {
     "data": {
      "image/png": "[encoded data removed]",
      "text/plain": [
       "<matplotlib.figure.Figure at 0x1db33163160>"
      ]
     },
     "metadata": {},
     "output_type": "display_data"
    }
   ],
   "source": [
    "weights, params = [], []\n",
    "for c in np.arange(0, 5):\n",
    "    lr = LogisticRegression(C=10**c, random_state=0)\n",
    "    lr.fit(X_train_std, y_train)\n",
    "    weights.append(lr.coef_[1])\n",
    "    params.append(10**c)\n",
    "weights = np.array(weights)\n",
    "plt.plot(params, weights[:, 0], label = 'petal length')\n",
    "plt.plot(params, weights[:, 1], linestyle = '--', label = 'petal width')\n",
    "plt.ylabel('weight coefficient')\n",
    "plt.xlabel('C')\n",
    "plt.legend(loc = 'upper left')\n",
    "plt.xscale('log')\n",
    "plt.show()"
   ]
  }
 ],
 "metadata": {
  "kernelspec": {
   "display_name": "Python 3",
   "language": "python",
   "name": "python3"
  },
  "language_info": {
   "codemirror_mode": {
    "name": "ipython",
    "version": 3
   },
   "file_extension": ".py",
   "mimetype": "text/x-python",
   "name": "python",
   "nbconvert_exporter": "python",
   "pygments_lexer": "ipython3",
   "version": "3.6.4"
  }
 },
 "nbformat": 4,
 "nbformat_minor": 2
}
